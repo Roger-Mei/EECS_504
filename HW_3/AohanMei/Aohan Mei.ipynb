{
 "cells": [
  {
   "cell_type": "markdown",
   "metadata": {
    "colab_type": "text",
    "id": "Uqh1kK1LeS2U"
   },
   "source": [
    "#EECS 504 PS3: Motion Magnification and Texture Synthesis\n",
    "\n",
    "Please provide the following information \n",
    "(e.g. Andrew Owens, ahowens):\n",
    "\n",
    "[Aohan] [Mei], [rogermei]\n",
    "\n",
    "[Collaborated with Zheyu Wen]\n"
   ]
  },
  {
   "cell_type": "markdown",
   "metadata": {
    "colab_type": "text",
    "id": "Wug5j9jHeeAx"
   },
   "source": [
    "# Starting\n",
    "\n",
    "Run the following code to import the modules you'll need. After your finish the assignment, remember to run all cells and save the notebook to your local machine as a .ipynb file for Canvas submission."
   ]
  },
  {
   "cell_type": "code",
   "execution_count": 0,
   "metadata": {
    "colab": {},
    "colab_type": "code",
    "id": "loxyYKR1ZBsG"
   },
   "outputs": [],
   "source": [
    "%matplotlib inline\n",
    "import numpy as np\n",
    "from numpy.fft import fft2, ifft2, fftshift, ifftshift\n",
    "from numpy import angle, real\n",
    "from numpy import exp, abs, pi, sqrt\n",
    "import matplotlib.pyplot as plt\n",
    "import cv2\n",
    "import math\n",
    "\n",
    "import random\n",
    "import sys\n",
    "from scipy import ndimage\n",
    "\n",
    "# cv2.imshow does not work in Colab, we use cv2_imshow instead\n",
    "from google.colab.patches import cv2_imshow"
   ]
  },
  {
   "cell_type": "code",
   "execution_count": 0,
   "metadata": {
    "colab": {},
    "colab_type": "code",
    "id": "-O7p5RhASRaB"
   },
   "outputs": [],
   "source": [
    "%%capture\n",
    "# download some images\n",
    "# should take a second to run\n",
    "\n",
    "# for motion magnification problem\n",
    "! wget -O bill.avi \"https://drive.google.com/uc?export=download&id=1QR2dCShn-fYYEvcAQ8J4mnIo_ISqrjc7\"\n",
    "\n",
    "# for texture synthesis problem\n",
    "! wget -O texture.jpg \"https://drive.google.com/uc?export=download&id=11IlTZNLwfYsXQt2L1GbKdNqcj6JNkQik\"\n",
    "! wget -O rings.jpg \"https://drive.google.com/uc?export=download&id=1fYtmQe_a40BWg1OU178SFbcU4KRZuphn\"\n",
    "! wget -O jigsaw.jpg \"https://drive.google.com/uc?export=download&id=1SlYUw6vT9_PNP8XNhQfAu36AtPJ-PMpk\""
   ]
  },
  {
   "cell_type": "markdown",
   "metadata": {
    "colab_type": "text",
    "id": "RpV5DTNmaBDk"
   },
   "source": [
    "## **Problem 3.1 (a)**"
   ]
  },
  {
   "cell_type": "code",
   "execution_count": 0,
   "metadata": {
    "colab": {},
    "colab_type": "code",
    "id": "ijhkAqcdZM3v"
   },
   "outputs": [],
   "source": [
    "def imshow(im, cmap='gray'):\n",
    "    # clip image from 0-1\n",
    "    im = np.clip(im, 0, 1)\n",
    "    plt.imshow(im, cmap=cmap)"
   ]
  },
  {
   "cell_type": "code",
   "execution_count": 0,
   "metadata": {
    "colab": {},
    "colab_type": "code",
    "id": "Mo2f0-Y6ZQyf"
   },
   "outputs": [],
   "source": [
    "# 9x9 images\n",
    "im_size = 9\n",
    "\n",
    "# we would like to magnify the change between im1 and im2 by 4x\n",
    "magnification_factor = 4;\n",
    "\n",
    "# horizontal movement from (0, 0) to (0, 1)\n",
    "im1 = np.zeros([im_size, im_size])\n",
    "im2 = np.zeros([im_size, im_size])\n",
    "im1[0,0] = 1\n",
    "im2[0,1] = 1\n",
    "\n",
    "ff1 = fftshift(fft2(im1))\n",
    "ff2 = fftshift(fft2(im2))"
   ]
  },
  {
   "cell_type": "markdown",
   "metadata": {
    "colab_type": "text",
    "id": "USjr94uIXJ1Y"
   },
   "source": [
    "### This is a quick tutorial for those who are not familiar with complex numbers in python."
   ]
  },
  {
   "cell_type": "code",
   "execution_count": 0,
   "metadata": {
    "colab": {
     "base_uri": "https://localhost:8080/",
     "height": 102
    },
    "colab_type": "code",
    "id": "KOZCXoSWZV2D",
    "outputId": "77edea9c-f088-47be-ccaa-423a30506c25"
   },
   "outputs": [
    {
     "name": "stdout",
     "output_type": "stream",
     "text": [
      "x = (1+1j)\n",
      "x.real 1.0 x.imag 1.0\n",
      "Magnitude 1.4142135623730951\n",
      "Phase 0.7853981633974483\n",
      "y = (1.0000000000000002+1j)\n"
     ]
    }
   ],
   "source": [
    "# create a complex number\n",
    "x = 1 + 1j\n",
    "print(\"x =\", x)\n",
    "print(\"x.real\", x.real, \"x.imag\", x.imag)\n",
    "\n",
    "# magnitude and phase of complex number\n",
    "mag = abs(x)\n",
    "phase = angle(x)\n",
    "\n",
    "print(\"Magnitude\", mag)\n",
    "print(\"Phase\", phase)\n",
    "\n",
    "# Euler's formula\n",
    "y = mag * exp(phase * 1j)\n",
    "print(\"y =\", y)"
   ]
  },
  {
   "cell_type": "code",
   "execution_count": 0,
   "metadata": {
    "colab": {},
    "colab_type": "code",
    "id": "uWusq5kFZSEw"
   },
   "outputs": [],
   "source": [
    "def magnify_change(im1, im2, magnification_factor):\n",
    "    \n",
    "    # find phase shift in frequency domain\n",
    "    im1_dft = fft2(im1)\n",
    "    im2_dft = fft2(im2)\n",
    "    phase_shift = angle(im2_dft)-angle(im1_dft)\n",
    "    \n",
    "    # magnify the phase change in frequency domain \n",
    "    magnified_dft = abs(im1_dft) * exp((angle(im1_dft) + magnification_factor * phase_shift) * 1j)\n",
    "    \n",
    "    # what does the magnified phase change cause in image space?\n",
    "    magnified = ifft2(magnified_dft).real\n",
    "    \n",
    "    return magnified"
   ]
  },
  {
   "cell_type": "code",
   "execution_count": 0,
   "metadata": {
    "colab": {
     "base_uri": "https://localhost:8080/",
     "height": 261
    },
    "colab_type": "code",
    "id": "YulC7V6nZW2u",
    "outputId": "543f5651-0380-472f-dcc3-cbfac0bfc23e"
   },
   "outputs": [
    {
     "data": {
      "image/png": "[encoded data removed]",
      "text/plain": [
       "<Figure size 864x2592 with 3 Axes>"
      ]
     },
     "metadata": {
      "tags": []
     },
     "output_type": "display_data"
    }
   ],
   "source": [
    "# magnify position change\n",
    "magnified = magnify_change(im1, im2, magnification_factor);\n",
    "\n",
    "plt.figure(figsize=(12,36))\n",
    "plt.subplot(131)\n",
    "imshow(im1); plt.title('im1');\n",
    "\n",
    "plt.subplot(132)\n",
    "imshow(im2); plt.title('im2');\n",
    "\n",
    "plt.subplot(133)\n",
    "imshow(magnified); plt.title('magnified');"
   ]
  },
  {
   "cell_type": "markdown",
   "metadata": {
    "colab_type": "text",
    "id": "nQAF4he7Za_8"
   },
   "source": [
    "## **Problem 3.1 (b)**\n"
   ]
  },
  {
   "cell_type": "code",
   "execution_count": 0,
   "metadata": {
    "colab": {
     "base_uri": "https://localhost:8080/",
     "height": 278
    },
    "colab_type": "code",
    "id": "1LPwI_TsZfDR",
    "outputId": "5fe93904-5bc3-44e5-b44d-4834e70d8c23"
   },
   "outputs": [
    {
     "name": "stdout",
     "output_type": "stream",
     "text": [
      "Explanation: it might due to that the two pixels are correlated during the fourier transform.\n"
     ]
    },
    {
     "data": {
      "image/png": "[encoded data removed]",
      "text/plain": [
       "<Figure size 864x2592 with 3 Axes>"
      ]
     },
     "metadata": {
      "tags": []
     },
     "output_type": "display_data"
    }
   ],
   "source": [
    "# 9x9 images\n",
    "im_size = 9\n",
    "\n",
    "# we would like to magnify the change between im1 and im2 by 4x\n",
    "magnification_factor = 4\n",
    "\n",
    "# horizontal movement from (0, 0) to (0, 1)\n",
    "# additional vertical movement from (8, 8) to (7, 8)\n",
    "im1 = np.zeros([im_size, im_size])\n",
    "im2 = np.zeros([im_size, im_size])\n",
    "im1[0,0] = 1\n",
    "im2[0,1] = 1\n",
    "im1[8,8] = 1\n",
    "im2[7,8] = 1\n",
    "\n",
    "# magnify position change\n",
    "magnified = magnify_change(im1, im2, magnification_factor)\n",
    "\n",
    "\n",
    "plt.figure(figsize=(12,36))\n",
    "plt.subplot(131)\n",
    "imshow(im1); plt.title('im1');\n",
    "\n",
    "plt.subplot(132)\n",
    "imshow(im2); plt.title('im2');\n",
    "\n",
    "plt.subplot(133)\n",
    "imshow(magnified); plt.title('magnified');\n",
    "\n",
    "# Explanation\n",
    "print('Explanation: it might due to that the two pixels are correlated during the fourier transform.')"
   ]
  },
  {
   "cell_type": "markdown",
   "metadata": {
    "colab_type": "text",
    "id": "XyIt4H8MZnno"
   },
   "source": [
    "## **Problem 3.1 (c)**\n"
   ]
  },
  {
   "cell_type": "code",
   "execution_count": 0,
   "metadata": {
    "colab": {
     "base_uri": "https://localhost:8080/",
     "height": 278
    },
    "colab_type": "code",
    "id": "NomQMElTZYiq",
    "outputId": "cb43ef9f-98a9-435b-a866-e2344d6f2a06"
   },
   "outputs": [
    {
     "data": {
      "text/plain": [
       "Text(0.5, 1.0, 'magnified')"
      ]
     },
     "execution_count": 34,
     "metadata": {
      "tags": []
     },
     "output_type": "execute_result"
    },
    {
     "data": {
      "image/png": "[encoded data removed]",
      "text/plain": [
       "<Figure size 864x2592 with 3 Axes>"
      ]
     },
     "metadata": {
      "tags": []
     },
     "output_type": "display_data"
    }
   ],
   "source": [
    "# 9x9 images\n",
    "im_size = 9\n",
    "\n",
    "# we would like to magnify the change between im1 and im2 by 4x\n",
    "magnification_factor = 4\n",
    "\n",
    "# width of our Gaussian window\n",
    "sigma = 2\n",
    "\n",
    "# horizontal movement from (0, 0) to (0, 1)\n",
    "# additional vertical movement from (8, 8) to (7, 8)\n",
    "im1 = np.zeros([im_size, im_size])\n",
    "im2 = np.zeros([im_size, im_size])\n",
    "im1[0,0] = 1\n",
    "im2[0,1] = 1\n",
    "im1[8,8] = 1\n",
    "im2[7,8] = 1\n",
    "\n",
    "# we will magnify windows of the image and aggregate the results\n",
    "magnified = np.zeros([im_size, im_size])\n",
    "\n",
    "# meshgrid for computing Gaussian window\n",
    "X, Y = np.meshgrid(np.arange(im_size), np.arange(im_size))\n",
    "\n",
    "for y in range(0, im_size, 2*sigma):\n",
    "    for x in range(0, im_size, 2*sigma):\n",
    "        gaussian_mask = np.exp(-((X-x)**2+(Y-y)**2)/(2*sigma**2))\n",
    "        window_magnified = magnify_change(gaussian_mask * im1, gaussian_mask * im2, magnification_factor)\n",
    "        \n",
    "        magnified = magnified + window_magnified\n",
    "        \n",
    "plt.figure(figsize=(12,36))\n",
    "plt.subplot(131)\n",
    "imshow(im1); plt.title('im1');\n",
    "\n",
    "plt.subplot(132)\n",
    "imshow(im2); plt.title('im2');\n",
    "\n",
    "plt.subplot(133)\n",
    "imshow(magnified); plt.title('magnified')"
   ]
  },
  {
   "cell_type": "code",
   "execution_count": 0,
   "metadata": {
    "colab": {},
    "colab_type": "code",
    "id": "UI8xpPbuGkF9"
   },
   "outputs": [],
   "source": []
  },
  {
   "cell_type": "markdown",
   "metadata": {
    "colab_type": "text",
    "id": "9Kzn223xZsN3"
   },
   "source": [
    "## **Problem 3.1 (d) - Motion Magnification**\n"
   ]
  },
  {
   "cell_type": "code",
   "execution_count": 0,
   "metadata": {
    "colab": {
     "base_uri": "https://localhost:8080/",
     "height": 34
    },
    "colab_type": "code",
    "id": "0l47cx31ZvpO",
    "outputId": "b8514dad-042e-40eb-9557-1d48a2043951"
   },
   "outputs": [
    {
     "name": "stdout",
     "output_type": "stream",
     "text": [
      "frames size: (60, 200, 200, 3) # (nb_frames, height, width, channel)\n"
     ]
    }
   ],
   "source": [
    "import numpy as np\n",
    "import cv2\n",
    "\n",
    "cap = cv2.VideoCapture('bill.avi')\n",
    "\n",
    "# list of video frames\n",
    "frames = []\n",
    "\n",
    "while(cap.isOpened()):\n",
    "    # read frame from the video\n",
    "    ret, frame = cap.read()\n",
    "    \n",
    "    if ret is False:\n",
    "        break\n",
    "\n",
    "    frame = cv2.resize(frame, (200, 200), interpolation=cv2.INTER_CUBIC)\n",
    "    frames.append(frame)\n",
    "\n",
    "cap.release()\n",
    "\n",
    "# scale frame to 0-1\n",
    "frames = np.array(frames) / 255.\n",
    "print(\"frames size:\", frames.shape, \"# (nb_frames, height, width, channel)\")\n",
    "\n",
    "# get height, width\n",
    "num_frames = frames.shape[0]\n",
    "height = frames.shape[1]\n",
    "width = frames.shape[2]"
   ]
  },
  {
   "cell_type": "code",
   "execution_count": 0,
   "metadata": {
    "colab": {
     "base_uri": "https://localhost:8080/",
     "height": 289
    },
    "colab_type": "code",
    "id": "RbB0d5fDZ1DQ",
    "outputId": "1bc9c94b-87cb-4df5-e92b-2a3461c3d579"
   },
   "outputs": [
    {
     "name": "stdout",
     "output_type": "stream",
     "text": [
      "1/16\n",
      "2/16\n",
      "3/16\n",
      "4/16\n",
      "5/16\n",
      "6/16\n",
      "7/16\n",
      "8/16\n",
      "9/16\n",
      "10/16\n",
      "11/16\n",
      "12/16\n",
      "13/16\n",
      "14/16\n",
      "15/16\n",
      "16/16\n"
     ]
    }
   ],
   "source": [
    "# 10x magnification of motion\n",
    "magnification_factor = 10\n",
    "\n",
    "# width of Gaussian window\n",
    "sigma = 26\n",
    "\n",
    "# alpha for moving average\n",
    "alpha = 0.5\n",
    "\n",
    "# we will magnify windows of the video and aggregate the results\n",
    "magnified = np.zeros_like(frames)\n",
    "\n",
    "# meshgrid for computing Gaussian window\n",
    "X, Y = np.meshgrid(np.arange(width), np.arange(height))\n",
    "\n",
    "# iterate over windows of the frames\n",
    "x_range = list(range(0, width, 2*sigma))\n",
    "y_range = list(range(0, height, 2*sigma))\n",
    "num_windows = len(x_range) * len(y_range)\n",
    "window_index = 1\n",
    "\n",
    "for y in y_range:\n",
    "    for x in x_range:\n",
    "        for channel_index in range(3): # RGB channels\n",
    "            for frame_index in range(num_frames):\n",
    "                \n",
    "                # create windowed frames\n",
    "                gaussian_mask = 1/np.sqrt(2*np.pi*sigma**2)*np.exp(-((X-x)**2+(Y-y)**2)/(2*sigma**2))\n",
    "                windowed_frames = gaussian_mask * frames[frame_index,:,:,channel_index]\n",
    "            \n",
    "                # initialize moving average of phase for current window/channel\n",
    "                if frame_index == 0:\n",
    "                    window_average_phase = angle(fft2(windowed_frames))\n",
    "                \n",
    "                window_dft = fft2(windowed_frames)\n",
    "                \n",
    "                # compute phase shift and constrain to [-pi, pi] since\n",
    "                # angle space wraps around\n",
    "                window_phase_shift = angle(window_dft) - window_average_phase\n",
    "                window_phase_shift[window_phase_shift > pi] = window_phase_shift[window_phase_shift > pi] - 2 * pi\n",
    "                window_phase_shift[window_phase_shift < -pi] = window_phase_shift[window_phase_shift < -pi] + 2 * pi\n",
    "                \n",
    "                # magnify phase shift\n",
    "                window_magnified_phase = angle(window_dft) + magnification_factor * window_phase_shift #TODO6\n",
    "                 \n",
    "                # go back to image space\n",
    "                window_magnified_dft = abs(window_dft) * exp(window_magnified_phase*1j)#TODO7\n",
    "                window_magnified = abs(ifft2(window_magnified_dft))\n",
    "                \n",
    "                # update moving average\n",
    "                window_phase_unwrapped = window_average_phase + window_phase_shift\n",
    "                window_average_phase = alpha * window_average_phase + (1 - alpha) * window_phase_unwrapped\n",
    "                \n",
    "                # aggregate\n",
    "                magnified[frame_index,:,:,channel_index] = magnified[frame_index,:,:,channel_index] + window_magnified\n",
    "        \n",
    "        # print progress\n",
    "        print('{}/{}'.format(window_index, num_windows))\n",
    "        window_index += 1"
   ]
  },
  {
   "cell_type": "code",
   "execution_count": 0,
   "metadata": {
    "colab": {},
    "colab_type": "code",
    "id": "T0LAo9tGZ3IL"
   },
   "outputs": [],
   "source": [
    "outputs = magnified / np.max(magnified)\n",
    "for channel_index in range(3):\n",
    "    original_frame = frames[0,:,:,channel_index]\n",
    "    magnified_frame = outputs[0,:,:,channel_index]\n",
    "    scale = np.std(original_frame[:]) / np.std(magnified_frame[:])\n",
    "    original_mean = np.mean(original_frame[:])\n",
    "    magnified_mean = np.mean(magnified_frame[:])\n",
    "    outputs[:,:,:,channel_index] = magnified_mean + scale * (outputs[:,:,:,channel_index] - magnified_mean)\n",
    "\n",
    "outputs = np.clip(outputs, 0, 1)"
   ]
  },
  {
   "cell_type": "code",
   "execution_count": 0,
   "metadata": {
    "colab": {},
    "colab_type": "code",
    "id": "eGwdxkFrZ4K9"
   },
   "outputs": [],
   "source": [
    "# create output video\n",
    "fourcc = cv2.VideoWriter_fourcc('M','J','P','G')\n",
    "# fourcc = cv2.VideoWriter_fourcc(*'XVID')\n",
    "out = cv2.VideoWriter('bill_magnified.avi',fourcc, 30.0, (height, width))\n",
    "\n",
    "for i in range(frames.shape[0]):\n",
    "    # scale the frame back to 0-255\n",
    "    frame = (np.clip(outputs[i], 0, 1) * 255).astype(np.uint8)\n",
    "    \n",
    "    # write frame to output video\n",
    "    out.write(frame)\n",
    "\n",
    "out.release()"
   ]
  },
  {
   "cell_type": "code",
   "execution_count": 0,
   "metadata": {
    "colab": {},
    "colab_type": "code",
    "id": "8QgaekEWZ6lE"
   },
   "outputs": [],
   "source": [
    "# Only for colab downloading videos\n",
    "try:\n",
    "    from google.colab import files\n",
    "    files.download('bill_magnified.avi')\n",
    "except:\n",
    "    print(\"Only for google colab\")"
   ]
  },
  {
   "cell_type": "markdown",
   "metadata": {
    "colab_type": "text",
    "id": "NPrGFZZ-aGcx"
   },
   "source": [
    "## **Problem 3.2 - Texture Synthesis**\n",
    "\n",
    "Note that the functions provided below are templates. Feel free to add your own helper functions as needed.\n",
    "\n",
    "You can reference the pseudocode provided here:  https://people.eecs.berkeley.edu/~efros/research/NPS/alg.html."
   ]
  },
  {
   "cell_type": "markdown",
   "metadata": {
    "colab_type": "text",
    "id": "DxMJ7MolbtZa"
   },
   "source": [
    "### Find matches function"
   ]
  },
  {
   "cell_type": "code",
   "execution_count": 0,
   "metadata": {
    "colab": {},
    "colab_type": "code",
    "id": "aay0xFu3b0rS"
   },
   "outputs": [],
   "source": [
    "def find_matches(template, sample, sample_pool, gauss_mask):\n",
    "    ### parameters, as used by Efros and Leung\n",
    "    epsilon = 0.1\n",
    "    delta = 0.3\n",
    "    \n",
    "    #### TODO:\n",
    "    # valid_mask is a square mask of width window_size that is 1 where template is filled\n",
    "    valid_mask = np.zeros(np.shape(gauss_mask))\n",
    "    valid_mask[template[:,:,0]>0] = 1\n",
    "    #### TODO:\n",
    "    # vectorized code that calculates SSD(template, sample)*mask for all patches\n",
    "    total_weight = np.sum(np.sum(valid_mask*gauss_mask))\n",
    "    ssd = np.zeros(np.shape(sample[:,:,0]))\n",
    "    (sample_height,sample_width,_) = np.shape(sample)\n",
    "    indicater = 0\n",
    "    for i in range(sample_height):\n",
    "      for j in range(sample_width):\n",
    "          sample_select = sample_pool[indicater]\n",
    "          indicater += 1\n",
    "          ssd[i,j] = np.sum(np.sum(np.sum((sample_select - template)**2,-1)*valid_mask*gauss_mask))\n",
    "          if total_weight != 0:\n",
    "              ssd[i,j] = ssd[i,j]/total_weight\n",
    "    PixelList = []\n",
    "    loc = np.where(ssd<=np.min(ssd)*(epsilon+1))\n",
    "    for i in range(len(loc[0])):\n",
    "      tuple_loc = tuple([loc[0][i],loc[1][i]])\n",
    "      error = ssd[loc[0][i],loc[1][i]]\n",
    "      PixelList.append([tuple_loc,error])\n",
    "    return PixelList"
   ]
  },
  {
   "cell_type": "markdown",
   "metadata": {
    "colab_type": "text",
    "id": "dL_bp42ob1AT"
   },
   "source": [
    "### Synthesize texture function"
   ]
  },
  {
   "cell_type": "code",
   "execution_count": 0,
   "metadata": {
    "colab": {},
    "colab_type": "code",
    "id": "EOOIwV57b-eT"
   },
   "outputs": [],
   "source": [
    "from random import choice\n",
    "\n",
    "def synth_texture(sample, window_size, out_size):\n",
    "    # normalize pixel intensity\n",
    "    sample = sample.astype(np.float64)\n",
    "    sample = sample / 255.0\n",
    "\n",
    "    seed_size = 10\n",
    "    [sheight, swidth, channels] = sample.shape\n",
    "    synth_img = np.zeros((*out_size, channels))\n",
    "\n",
    "    # initialization: pick a random 3x3 patch from sample and place in the middle of the synthesized image\n",
    "    rh = round(seed_size + np.random.uniform(0,1) * (sheight - 2 * seed_size))\n",
    "    rw = round(seed_size + np.random.uniform(0,1) * (swidth - 2 * seed_size))\n",
    "    center = [round(.5 * x) for x in out_size] # center\n",
    "    synth_img[center[0]: center[0] + seed_size, center[1]: center[1] + seed_size ,:] = sample[rh: rh + seed_size , rw: rw + seed_size,:]\n",
    "   \n",
    "    # bitmap indicating filled pixels, the seed patch is initially filled\n",
    "    filled = np.zeros(out_size)\n",
    "    filled[center[0]: center[0] + seed_size , center[1]: center[1] + seed_size] = 1\n",
    "    num_filled = int(np.sum(filled))\n",
    "    n_pixels = out_size[0]*out_size[1]\n",
    "\n",
    "    # TODO\n",
    "    # intialize 2D zero-mean gaussian w/ variance = (window_size / 6.4)\n",
    "    X = np.arange(np.ceil(-window_size/2),np.floor(window_size/2)+1)\n",
    "    Y = np.arange(np.ceil(-window_size/2),np.floor(window_size/2)+1)\n",
    "    x_gaussian,y_gaussian = np.meshgrid(X,Y)\n",
    "    gaussian_mask = np.exp(-(x_gaussian**2+y_gaussian**2)/(2*(window_size/6.4)**2))\n",
    "    # main loop: repeat until all pixels are filled\n",
    "    next_p = n_pixels / 10\n",
    "\n",
    "    ## Precompute the sample windowed matrix so that we don't have to compute them in each iteration\n",
    "    sample_padding = np.zeros([sheight+window_size-1,swidth+window_size-1,channels])\n",
    "    index_float = np.floor(window_size/2)\n",
    "    index_int = index_float.astype(\"int\")\n",
    "    sample_padding[index_int:sheight+index_int,\n",
    "                   index_int:swidth+index_int,:] = sample\n",
    "    sample_windowed_pool = []\n",
    "    for i in range(sheight):\n",
    "      for j in range(swidth):\n",
    "        temp = sample_padding[i:i+window_size,j:j+window_size]\n",
    "        sample_windowed_pool.append(temp)\n",
    "    delta = 0.3\n",
    "    while(num_filled < n_pixels):\n",
    "        # report progress\n",
    "        if(num_filled > next_p):\n",
    "            print(round(100 * num_filled / n_pixels), '% complete')\n",
    "            next_p += n_pixels / 10\n",
    "\n",
    "        # TODO:\n",
    "        # get list of unfilled pixels as (x, y) coordinates\n",
    "        # hint: use dilation and masking to efficiently find unfilled neighboring pixels\n",
    "        masking = np.ones([window_size,window_size])\n",
    "        pixel_loc = np.where(filled==0)\n",
    "        pixel_list_temp = []\n",
    "        for i in range(len(pixel_loc[0])):\n",
    "            tuple_loc = tuple([pixel_loc[0][i],pixel_loc[1][i]])\n",
    "            x = pixel_loc[0][i]\n",
    "            y = pixel_loc[1][i]\n",
    "            zeros_mask = np.zeros(out_size)\n",
    "            zeros_mask[x,y] = 1\n",
    "            unfilled_neighbor_mask = ndimage.binary_dilation(zeros_mask,structure=masking).astype(\"int\")\n",
    "\n",
    "            template = np.zeros([window_size,window_size,3])\n",
    "            loc = np.where(unfilled_neighbor_mask==1)\n",
    "            length = len(loc[0])\n",
    "            temp = np.reshape(synth_img[np.min(loc[0]):np.max(loc[0])+1,np.min(loc[1]):np.max(loc[1])+1],\n",
    "                              (loc[0][length-1]-loc[0][0]+1,loc[1][length-1]-loc[1][0]+1,3))\n",
    "            num_zeros = window_size*window_size - np.sum(np.sum(temp.nonzero()))\n",
    "            pixel_list_temp.append([num_zeros,tuple_loc])\n",
    "\n",
    "        # TODO:\n",
    "        # (optional, but recommended) randomly permute and sort list of pixels decreasing number of filled neighbor pixels\n",
    "        pixel_list = sorted(pixel_list_temp)\n",
    "        # TODO:\n",
    "        # iterate over the list of pixels\n",
    "        for _,(x, y) in pixel_list:\n",
    "          # TODO:\n",
    "          # place window with center as (x, y) and use as template\n",
    "          zeros_mask = np.zeros(out_size)\n",
    "          zeros_mask[x,y] = 1\n",
    "          unfilled_neighbor_mask = ndimage.binary_dilation(zeros_mask,structure=masking).astype(\"int\")\n",
    "\n",
    "          template = np.zeros([window_size,window_size,3])\n",
    "          loc = np.where(unfilled_neighbor_mask==1)\n",
    "          length = len(loc[0])\n",
    "          temp = np.reshape(synth_img[np.min(loc[0]):np.max(loc[0])+1,np.min(loc[1]):np.max(loc[1])+1],\n",
    "                            (loc[0][length-1]-loc[0][0]+1,loc[1][length-1]-loc[1][0]+1,3))\n",
    "          (height_temp,width_temp,_) = np.shape(temp)\n",
    "          template[0:height_temp,0:width_temp,:] = temp\n",
    "          # TODO:\n",
    "          # find the best matching windows from sample image\n",
    "          # randomly sample one from best matches\n",
    "          PixelList = find_matches(template,sample,sample_windowed_pool,gaussian_mask)\n",
    "          length_pix = len(PixelList)\n",
    "          choice = np.random.randint(low=0,high=length_pix,size=1)\n",
    "          if PixelList[choice[0]][1] <= delta:\n",
    "            (xloc,yloc) = PixelList[choice[0]][0]\n",
    "            synth_img[x,y,:] = sample[xloc,yloc,:]\n",
    "            filled[x,y] = 1\n",
    "            num_filled += 1\n",
    "          else:\n",
    "            delta = delta*1.1\n",
    "    return synth_img*255.0\n"
   ]
  },
  {
   "cell_type": "markdown",
   "metadata": {
    "colab_type": "text",
    "id": "ar9WGk44b_Aw"
   },
   "source": [
    "### Main function\n",
    "\n",
    "Run the texture synthesis algorithm to generate texture of new shape. "
   ]
  },
  {
   "cell_type": "code",
   "execution_count": 0,
   "metadata": {
    "colab": {
     "base_uri": "https://localhost:8080/",
     "height": 638
    },
    "colab_type": "code",
    "id": "cE0a6bhJcBbp",
    "outputId": "c1037f4e-a7fc-445e-9a9b-18f436bebd06"
   },
   "outputs": [
    {
     "name": "stdout",
     "output_type": "stream",
     "text": [
      "Source Image\n"
     ]
    },
    {
     "data": {
      "image/png": "[encoded data removed]",
      "text/plain": [
       "<PIL.Image.Image image mode=RGB size=34x34 at 0x7F7ED39227F0>"
      ]
     },
     "metadata": {
      "tags": []
     },
     "output_type": "display_data"
    },
    {
     "name": "stdout",
     "output_type": "stream",
     "text": [
      "Target Image\n"
     ]
    },
    {
     "data": {
      "image/png": "[encoded data removed]",
      "text/plain": [
       "<PIL.Image.Image image mode=RGB size=100x100 at 0x7F7ED3922B70>"
      ]
     },
     "metadata": {
      "tags": []
     },
     "output_type": "display_data"
    },
    {
     "name": "stdout",
     "output_type": "stream",
     "text": [
      "Target Image\n"
     ]
    },
    {
     "data": {
      "image/png": "[encoded data removed]",
      "text/plain": [
       "<PIL.Image.Image image mode=RGB size=100x100 at 0x7F7ED3922668>"
      ]
     },
     "metadata": {
      "tags": []
     },
     "output_type": "display_data"
    },
    {
     "name": "stdout",
     "output_type": "stream",
     "text": [
      "100 % complete\n",
      "Target Image\n"
     ]
    },
    {
     "data": {
      "image/png": "[encoded data removed]",
      "text/plain": [
       "<PIL.Image.Image image mode=RGB size=100x100 at 0x7F7ED39227B8>"
      ]
     },
     "metadata": {
      "tags": []
     },
     "output_type": "display_data"
    },
    {
     "name": "stdout",
     "output_type": "stream",
     "text": [
      "Source Image\n"
     ]
    },
    {
     "data": {
      "image/png": "[encoded data removed]",
      "text/plain": [
       "<PIL.Image.Image image mode=RGB size=68x68 at 0x7F7ED3922668>"
      ]
     },
     "metadata": {
      "tags": []
     },
     "output_type": "display_data"
    },
    {
     "name": "stdout",
     "output_type": "stream",
     "text": [
      "Target Image\n"
     ]
    },
    {
     "data": {
      "image/png": "[encoded data removed]",
      "text/plain": [
       "<PIL.Image.Image image mode=RGB size=100x100 at 0x7F7ED236C780>"
      ]
     },
     "metadata": {
      "tags": []
     },
     "output_type": "display_data"
    }
   ],
   "source": [
    "# Texture synthesis on rings\n",
    "source = cv2.imread('rings.jpg')\n",
    "window_sizes = [5, 7, 13] \n",
    "out_size = [100, 100]\n",
    "\n",
    "print('Source Image')\n",
    "cv2_imshow(source)\n",
    "\n",
    "for w in window_sizes:\n",
    "  target = synth_texture(source, w, out_size)\n",
    "  print('Target Image')\n",
    "  cv2_imshow(target)\n",
    "\n",
    "w = 5\n",
    "\n",
    "# Texture synthesis on colored image\n",
    "source = cv2.imread('texture.jpg')\n",
    "print('Source Image')\n",
    "cv2_imshow(source)\n",
    "target = synth_texture(source, w, out_size)\n",
    "print('Target Image')\n",
    "cv2_imshow(target)\n",
    "\n",
    "\n",
    "# Don't need to submit this one\n",
    "# source = cv2.imread('jigsaw.jpg')\n",
    "# print('Source Image')\n",
    "# cv2_imshow(source)\n",
    "# target = synth_texture(source, w, out_size)\n",
    "# print('Target Image')\n",
    "# cv2_imshow(target)"
   ]
  }
 ],
 "metadata": {
  "colab": {
   "collapsed_sections": [],
   "name": "Copy of EECS 504 Pset 3: Motion Magnification and Texture Synthesis.ipynb",
   "provenance": []
  },
  "kernelspec": {
   "display_name": "Python 3",
   "language": "python",
   "name": "python3"
  },
  "language_info": {
   "codemirror_mode": {
    "name": "ipython",
    "version": 3
   },
   "file_extension": ".py",
   "mimetype": "text/x-python",
   "name": "python",
   "nbconvert_exporter": "python",
   "pygments_lexer": "ipython3",
   "version": "3.7.4"
  }
 },
 "nbformat": 4,
 "nbformat_minor": 1
}
